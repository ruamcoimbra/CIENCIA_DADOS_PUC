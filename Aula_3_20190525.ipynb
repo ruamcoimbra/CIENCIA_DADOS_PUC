{
 "cells": [
  {
   "cell_type": "markdown",
   "metadata": {},
   "source": [
    "# Pandas\n",
    "Pandas é uma biblioteca Python de código aberto para análise de dados, que oferece alto desempenho, estruturas de dados de fácil utilização e ferramentas de análise de dados. Para usar a biblioteca, basta utilizar o seguinte comando de importação abaixo:\n",
    "\n",
    "```python\n",
    "import numpy as np\n",
    "import pandas as pd\n",
    "```"
   ]
  },
  {
   "cell_type": "markdown",
   "metadata": {},
   "source": [
    "## Obtendo os Dados\n",
    "\n",
    "| Formato | Descrição                        |  Função de Leitura | Função de Escrita |\n",
    "|:--------|:---------------------------------|:-------------------|:------------------|\n",
    "| Texto   | CSV                              | read_csv( )        | to_csv( )         |\n",
    "| Texto   | JSON                             | read_json( )       | to_json( )        |\n",
    "| Texto   | HTML                             | read_html( )       | to_html( )        | \n",
    "| Texto   | Área de Transferência de Memória | read_clipboard( )  | to_clipboard( )   |\n",
    "| Binário | MS Excel                         | read_excel( )      | to_excel( )       |\n",
    "| Binário | HDF5 Format                      | read_hdf( )        | to_hdf( )         |\n",
    "| Binário | Feather Format                   | read_feather( )    | to_feather( )     |\n",
    "| Binário | Parquet Format                   | read_parquet( )    | to_parquet( )     |\n",
    "| Binário | Msgpack                          | read_msgpack( )    | to_msgpack( )     |\n",
    "| Binário | Stata                            | read_stata( )      | to_stata( )       |\n",
    "| Binário | SAS                              | read_sas( )        | -                 | \n",
    "| Binário | Python Pickle Format             | read_pickle( )     | to_pickle( )      |\n",
    "| SQL     | SQL                              | read_sql( )        | to_sql( )         |\n",
    "| SQL     | Google Big Query                 | read_gbq( )        | to_gbq( )         |\n",
    "\n",
    "### Exemplos\n",
    "\n",
    "```python\n",
    "# Exemplo 1: Leitura e Escrita para CSV\n",
    "\n",
    "# Lê 5 linhas de um arquivo CSV sem cabeçalho.\n",
    "pd.read_csv(\"arquivo.csv\", header=None, nrows=5) \n",
    "\n",
    "# Exporta os dados de uma estrutura de dados \n",
    "# Data Frame do Pandas para um arquivo csv.\n",
    "dados_data_frame.to_csv(\"dados_data_frame.csv\")\n",
    "\n",
    "\n",
    "# Exemplo 2: Leitura e Escrita para EXCEL\n",
    "pd.read_excel(\"planilha.xlsx\")\n",
    "\n",
    "dados_data_frame.to_excel(\"dados_data_frame.xlsx\", sheet_name=\"Planilha 1\")\n",
    "\n",
    "# Carrega múltiplas planilhas do mesmo arquivo\n",
    "planilha = pd.ExcelFile(\"arquivo.xls\")\n",
    "dados_data_frame = pd.read_excel(xlsx, \"Planilha 1\")\n",
    "```\n"
   ]
  },
  {
   "cell_type": "markdown",
   "metadata": {},
   "source": [
    "## Estruturas de Dados\n",
    "\n",
    "### Series\n",
    "Vetor unidimensional rotulado capaz de armazenar qualquer tipo de dado"
   ]
  },
  {
   "cell_type": "code",
   "execution_count": 7,
   "metadata": {},
   "outputs": [
    {
     "data": {
      "text/plain": [
       "a    0.461933\n",
       "b    1.209675\n",
       "c    0.521133\n",
       "d   -0.229484\n",
       "e   -0.784481\n",
       "dtype: float64"
      ]
     },
     "execution_count": 7,
     "metadata": {},
     "output_type": "execute_result"
    }
   ],
   "source": [
    "import numpy as np\n",
    "import pandas as pd\n",
    "\n",
    "s = pd.Series(np.random.randn(5), index=['a', 'b', 'c', 'd', 'e'])\n",
    "s"
   ]
  },
  {
   "cell_type": "markdown",
   "metadata": {},
   "source": [
    "### Data Frame\n",
    "Matriz rotulada contendo colunas com diferentes tipos de dados"
   ]
  },
  {
   "cell_type": "code",
   "execution_count": 12,
   "metadata": {},
   "outputs": [
    {
     "data": {
      "text/html": [
       "<div>\n",
       "<style scoped>\n",
       "    .dataframe tbody tr th:only-of-type {\n",
       "        vertical-align: middle;\n",
       "    }\n",
       "\n",
       "    .dataframe tbody tr th {\n",
       "        vertical-align: top;\n",
       "    }\n",
       "\n",
       "    .dataframe thead th {\n",
       "        text-align: right;\n",
       "    }\n",
       "</style>\n",
       "<table border=\"1\" class=\"dataframe\">\n",
       "  <thead>\n",
       "    <tr style=\"text-align: right;\">\n",
       "      <th></th>\n",
       "      <th>Country</th>\n",
       "      <th>Capital</th>\n",
       "      <th>Population</th>\n",
       "    </tr>\n",
       "  </thead>\n",
       "  <tbody>\n",
       "    <tr>\n",
       "      <th>0</th>\n",
       "      <td>Belgium</td>\n",
       "      <td>Brussels</td>\n",
       "      <td>11.190.846</td>\n",
       "    </tr>\n",
       "    <tr>\n",
       "      <th>1</th>\n",
       "      <td>India</td>\n",
       "      <td>New Delhi</td>\n",
       "      <td>1.303.171.035</td>\n",
       "    </tr>\n",
       "    <tr>\n",
       "      <th>2</th>\n",
       "      <td>Brazil</td>\n",
       "      <td>Brasilia</td>\n",
       "      <td>207.847.528</td>\n",
       "    </tr>\n",
       "    <tr>\n",
       "      <th>3</th>\n",
       "      <td>China</td>\n",
       "      <td>Chongqing</td>\n",
       "      <td>30.165.500</td>\n",
       "    </tr>\n",
       "  </tbody>\n",
       "</table>\n",
       "</div>"
      ],
      "text/plain": [
       "   Country    Capital     Population\n",
       "0  Belgium   Brussels     11.190.846\n",
       "1    India  New Delhi  1.303.171.035\n",
       "2   Brazil   Brasilia    207.847.528\n",
       "3    China  Chongqing     30.165.500"
      ]
     },
     "execution_count": 12,
     "metadata": {},
     "output_type": "execute_result"
    }
   ],
   "source": [
    "data = {\n",
    "    'Country': ['Belgium',  'India',  'Brazil', 'China'],\n",
    "    'Capital': ['Brussels',  'New Delhi',  'Brasilia', 'Chongqing'],\n",
    "    'Population': ['11.190.846', '1.303.171.035', '207.847.528', '30.165.500']\n",
    "}\n",
    "\n",
    "df = pd.DataFrame(data, columns=['Country',  'Capital',  'Population'])\n",
    "\n",
    "df"
   ]
  },
  {
   "cell_type": "markdown",
   "metadata": {},
   "source": [
    "### Indexação / Seleção\n",
    "\n",
    "| Operação                                    | Sintaxe            | Resultado |\n",
    "|:--------------------------------------------|:-------------------|:----------|\n",
    "| Seleciona Coluna                            | df[col]            | Series    |\n",
    "| Seleciona Linha por nome do rótulo          | df.loc[rotulo]     | Series    |\n",
    "| Seleciona linhas por posição (inteiro)      | df.iloc[posicao]   | Series    |\n",
    "| Divide Linhas                               | df[5:10]           | DataFrame |\n",
    "| Seleciona linhas por vetor booleano         | df[vetor_booleano] | DataFrame |\n"
   ]
  },
  {
   "cell_type": "code",
   "execution_count": 34,
   "metadata": {},
   "outputs": [
    {
     "name": "stdout",
     "output_type": "stream",
     "text": [
      "   Country\n",
      "0  Belgium\n",
      "\n",
      "\n"
     ]
    }
   ],
   "source": [
    "import numpy as np\n",
    "import pandas as pd\n",
    "\n",
    "data = {\n",
    "    'Country': ['Belgium',  'India',  'Brazil'],\n",
    "    'Capital': ['Brussels',  'New Delhi',  'Brasilia'],\n",
    "    'Population': [11190846, 1303171035, 207847528]\n",
    "}\n",
    "\n",
    "df = pd.DataFrame(data, columns=['Country',  'Capital',  'Population'])\n",
    "\n",
    "# Seleção por posição\n",
    "print(df.iloc[[0],[0]])\n",
    "print(\"\\n\")\n"
   ]
  },
  {
   "cell_type": "code",
   "execution_count": 36,
   "metadata": {},
   "outputs": [
    {
     "name": "stdout",
     "output_type": "stream",
     "text": [
      "   Country\n",
      "0  Belgium\n",
      "\n",
      "\n"
     ]
    }
   ],
   "source": [
    "# Seleção por rótulo\n",
    "print(df.loc[[0], ['Country']])\n",
    "print(\"\\n\")"
   ]
  },
  {
   "cell_type": "code",
   "execution_count": 38,
   "metadata": {},
   "outputs": [
    {
     "name": "stdout",
     "output_type": "stream",
     "text": [
      "Country          Brazil\n",
      "Capital        Brasilia\n",
      "Population    207847528\n",
      "Name: 2, dtype: object\n",
      "\n",
      "\n",
      "0     Brussels\n",
      "1    New Delhi\n",
      "2     Brasilia\n",
      "Name: Capital, dtype: object\n",
      "\n",
      "\n",
      "Brasilia\n",
      "\n",
      "\n"
     ]
    }
   ],
   "source": [
    "# Rótulo/Posição\n",
    "print(df.loc[2])\n",
    "print(\"\\n\")\n",
    "\n",
    "print(df.loc[:, 'Capital'])\n",
    "print(\"\\n\")\n",
    "\n",
    "print(df.loc[2, 'Capital'])\n",
    "print(\"\\n\")"
   ]
  },
  {
   "cell_type": "markdown",
   "metadata": {},
   "source": [
    "### Missing Data (Dados Ausentes)\n",
    "\n",
    "O pandas utiliza o valor np.nan para representar todos os dados auentes que possam aparecer no conjunto de dados. Para detectar dados ausentes facilmente, o Pandas fornece as funções: isna() e notna(), que são também métodos dos objetos do tipo Series e DataFrame."
   ]
  },
  {
   "cell_type": "code",
   "execution_count": 43,
   "metadata": {},
   "outputs": [
    {
     "name": "stdout",
     "output_type": "stream",
     "text": [
      "\n",
      "\n",
      "        one       two     three\n",
      "A -0.723679 -0.564471  0.664825\n",
      "C  0.554347 -1.192107  0.038739\n",
      "E  0.282690  0.146103  1.378668\n",
      "F  1.402670  0.485566  1.990728\n",
      "H  0.562901 -1.070776  1.444420\n",
      "\n",
      "\n"
     ]
    }
   ],
   "source": [
    "import numpy as np\n",
    "import pandas as pd\n",
    "\n",
    "df = pd.DataFrame(np.random.randn(5, 3), index=['A', 'C', 'E', 'F', 'H'], \n",
    "                  columns=['one', 'two', 'three'])\n",
    "\n",
    "print(\"\\n\")\n",
    "print(df)\n",
    "print(\"\\n\")"
   ]
  },
  {
   "cell_type": "code",
   "execution_count": 44,
   "metadata": {},
   "outputs": [
    {
     "name": "stdout",
     "output_type": "stream",
     "text": [
      "\n",
      "\n",
      "        one       two     three four\n",
      "A -0.723679 -0.564471  0.664825  bar\n",
      "C  0.554347 -1.192107  0.038739  bar\n",
      "E  0.282690  0.146103  1.378668  bar\n",
      "F  1.402670  0.485566  1.990728  bar\n",
      "H  0.562901 -1.070776  1.444420  bar\n",
      "\n",
      "\n"
     ]
    }
   ],
   "source": [
    "df['four'] = 'bar' # Cria uma nova coluna (four) e adiciona valores constantes (bar)\n",
    "\n",
    "print(\"\\n\")\n",
    "print(df)\n",
    "print(\"\\n\")\n"
   ]
  },
  {
   "cell_type": "code",
   "execution_count": 45,
   "metadata": {},
   "outputs": [
    {
     "name": "stdout",
     "output_type": "stream",
     "text": [
      "\n",
      "\n",
      "        one       two     three four   five\n",
      "A -0.723679 -0.564471  0.664825  bar  False\n",
      "C  0.554347 -1.192107  0.038739  bar   True\n",
      "E  0.282690  0.146103  1.378668  bar   True\n",
      "F  1.402670  0.485566  1.990728  bar   True\n",
      "H  0.562901 -1.070776  1.444420  bar   True\n",
      "\n",
      "\n"
     ]
    }
   ],
   "source": [
    "df['five'] = df['one'] > 0 # Cria uma nova coluna (five) e adiciona true se a coluna 1 for maior que zero\n",
    "\n",
    "print(\"\\n\")\n",
    "print(df)\n",
    "print(\"\\n\")\n"
   ]
  },
  {
   "cell_type": "code",
   "execution_count": 46,
   "metadata": {},
   "outputs": [
    {
     "name": "stdout",
     "output_type": "stream",
     "text": [
      "\n",
      "\n",
      "        one       two     three four   five\n",
      "A -0.723679 -0.564471  0.664825  bar  False\n",
      "B       NaN       NaN       NaN  NaN    NaN\n",
      "C  0.554347 -1.192107  0.038739  bar   True\n",
      "D       NaN       NaN       NaN  NaN    NaN\n",
      "E  0.282690  0.146103  1.378668  bar   True\n",
      "F  1.402670  0.485566  1.990728  bar   True\n",
      "G       NaN       NaN       NaN  NaN    NaN\n",
      "H  0.562901 -1.070776  1.444420  bar   True\n",
      "\n",
      "\n"
     ]
    }
   ],
   "source": [
    "# Reindexa o data frame para simularmos os missing datas\n",
    "# Ele adicionou as linhas ausentes: B, D e G; e preencheu\n",
    "# com dados auentes (NaN)\n",
    "df2 = df.reindex(['A', 'B', 'C', 'D', 'E', 'F', 'G', 'H'])\n",
    "\n",
    "print(\"\\n\")\n",
    "print(df2)\n",
    "print(\"\\n\")"
   ]
  },
  {
   "cell_type": "code",
   "execution_count": 53,
   "metadata": {},
   "outputs": [
    {
     "name": "stdout",
     "output_type": "stream",
     "text": [
      "\n",
      "\n",
      "     one    two  three   four   five\n",
      "A  False  False  False  False  False\n",
      "B   True   True   True   True   True\n",
      "C  False  False  False  False  False\n",
      "D   True   True   True   True   True\n",
      "E  False  False  False  False  False\n",
      "F  False  False  False  False  False\n",
      "G   True   True   True   True   True\n",
      "H  False  False  False  False  False\n",
      "\n",
      "\n",
      "        one       two     three four   five\n",
      "A -0.723679 -0.564471  0.664825  bar  False\n",
      "B       NaN       NaN       NaN  NaN    NaN\n",
      "C  0.554347 -1.192107  0.038739  bar   True\n",
      "D       NaN       NaN       NaN  NaN    NaN\n",
      "E  0.282690  0.146103  1.378668  bar   True\n",
      "F  1.402670  0.485566  1.990728  bar   True\n",
      "G       NaN       NaN       NaN  NaN    NaN\n",
      "H  0.562901 -1.070776  1.444420  bar   True\n",
      "\n",
      "\n"
     ]
    }
   ],
   "source": [
    "# Avalia o data frame e coloca True no local dos dados ausentes\n",
    "print(\"\\n\")\n",
    "print(pd.isna(df2))\n",
    "df2.isna()\n",
    "print(\"\\n\")\n",
    "print(df2)\n",
    "print(\"\\n\")"
   ]
  },
  {
   "cell_type": "code",
   "execution_count": 60,
   "metadata": {},
   "outputs": [
    {
     "name": "stdout",
     "output_type": "stream",
     "text": [
      "\n",
      "\n",
      "A   -0.723679\n",
      "B         NaN\n",
      "C    0.554347\n",
      "D         NaN\n",
      "E    0.282690\n",
      "F    1.402670\n",
      "G         NaN\n",
      "H    0.562901\n",
      "Name: one, dtype: float64\n",
      "\n",
      "\n",
      "A    False\n",
      "B     True\n",
      "C    False\n",
      "D     True\n",
      "E    False\n",
      "F    False\n",
      "G     True\n",
      "H    False\n",
      "Name: one, dtype: bool\n",
      "\n",
      "\n",
      "A     True\n",
      "B    False\n",
      "C     True\n",
      "D    False\n",
      "E     True\n",
      "F     True\n",
      "G    False\n",
      "H     True\n",
      "Name: four, dtype: bool\n",
      "\n",
      "\n"
     ]
    }
   ],
   "source": [
    "# É possível fazer o teste especificando colunas\n",
    "print(\"\\n\")\n",
    "print(df2['one'])\n",
    "print(\"\\n\")\n",
    "\n",
    "print(pd.isna(df2['one']) )\n",
    "print(\"\\n\")\n",
    "\n",
    "print(df2['four'].notna())\n",
    "print(\"\\n\")"
   ]
  },
  {
   "cell_type": "markdown",
   "metadata": {},
   "source": [
    "### Ordenação e Ranking\n",
    "\n",
    "| Função                          | Descrição                        | \n",
    "|:--------------------------------|:---------------------------------|\n",
    "| df.sort_index()                 | Ordena por índices               |\n",
    "| df.sort_values(by='NomeColuna') | Ordena por valores               |\n",
    "| df.rank()                       | Gera um ranking para as entradas |\n",
    "\n",
    "\n",
    "### Informações Básicas\n",
    "\n",
    "| Função         | Descrição                                | \n",
    "|:---------------|:-----------------------------------------|\n",
    "| df.shape()     | Retorna (linhas, colunas)                |\n",
    "| df.index()     | Descreve os índices                      |\n",
    "| df.columns()   | Descreve as colunas do Data Frame        |\n",
    "| df.info()      | Informações do Data Frame                |\n",
    "| df.count()     | Retorna a contagem dos valores não nulos |\n",
    "\n",
    "\n",
    "### Sumário Quantitativo\n",
    "\n",
    "| Função         | Descrição                      | \n",
    "|:---------------|:-------------------------------|\n",
    "| df.sum()       | Soma dos valores               |\n",
    "| df.cumsum()    | Soma cumulativa dos valores    |\n",
    "| df.min()       | Obtém o valor mínimo           |\n",
    "| df.max()       | Obtém o valor máximo           |\n",
    "| df.idxmin()    | Obtém o valor mínimo do índice |\n",
    "| df.idxmax()    | Obtém o valor máximo do índice |\n",
    "| df.describe()  | Gera estatísticas descritivas que resumem a tendência central, a dispersão e a forma da distribuição de um conjunto de dados, excluindo os valores NaN. |\n",
    "| df.mean()      | Calcula a Média                |\n",
    "| df.median()    | Calcula a Mediana              |\n",
    "\n"
   ]
  },
  {
   "cell_type": "markdown",
   "metadata": {},
   "source": [
    "## Aprendendo Pandas na Prática\n",
    "\n",
    "[Stack Overflow Annual Developer Survey](https://insights.stackoverflow.com/survey) é o maior e mais abrangente pesquisa sobre desevenvolvedores ao redor do mundo. Considerando o conjunto de dados da pesquisa referente ao ano de 2018, faremos algumas tarefas rotineiras de um cientista de dados utilizando a biblioteca Pandas. É importante lembrar que os resultados da pesqusia foram anonimizados e distribuídos para download publicamente sob a licença [Open Database Licence (ODbL)](https://opendatacommons.org/licenses/odbl/1.0/)"
   ]
  },
  {
   "cell_type": "code",
   "execution_count": 66,
   "metadata": {},
   "outputs": [],
   "source": [
    "# Dataset: tack Overflow Annual Developer Survey - 2018\n",
    "import numpy as np\n",
    "import pandas as pd\n",
    "\n",
    "# 1. Carregue o dataset para análise, disponível na pasta data, usando as funções de leitura do Pandas.\n",
    "\n",
    "\n",
    "# 2. Obtenha informações do Data Frame carregado em memória\n",
    "\n",
    "\n",
    "# 3. Selecione todas as linhas com país igual a Brasil\n",
    "\n",
    "\n",
    "\n",
    "# 4. Os dados do brasil possui dados ausentes (missing data)? Se sim, selecione todas as linhas\n",
    "# que contenham algum dado ausente\n",
    "\n",
    "\n",
    "\n",
    "# 5. Qual o total de valores ausentes para cada coluna?\n",
    "\n",
    "\n",
    "\n",
    "# 6. Remova linhas com pelo menos 1 elemento ausente das colunas: 'FormalEducation', 'UndergradMajor', 'Age'.\n",
    "\n",
    "\n",
    "\n",
    "# 7. Crie um subconjunto de dados com as colunas: \n",
    "# Respondent, Country, Student, Employment, FormalEducation, UndergradMajor, Exercise, Age\n",
    "\n",
    "\n",
    "\n",
    "# 8. Exiba as contagens de frequência dos valores únicos das colunas: Student, Exercise, Employment, FormalEducation, UndergradMajor, Exercise e Age\n",
    "\n"
   ]
  },
  {
   "cell_type": "code",
   "execution_count": 65,
   "metadata": {},
   "outputs": [],
   "source": [
    "# Solução na pagina Pratica Aula_4_2019052019"
   ]
  }
 ],
 "metadata": {
  "kernelspec": {
   "display_name": "Python 3",
   "language": "python",
   "name": "python3"
  },
  "language_info": {
   "codemirror_mode": {
    "name": "ipython",
    "version": 3
   },
   "file_extension": ".py",
   "mimetype": "text/x-python",
   "name": "python",
   "nbconvert_exporter": "python",
   "pygments_lexer": "ipython3",
   "version": "3.7.3"
  }
 },
 "nbformat": 4,
 "nbformat_minor": 2
}
